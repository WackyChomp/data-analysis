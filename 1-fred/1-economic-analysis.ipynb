{
 "cells": [
  {
   "cell_type": "markdown",
   "metadata": {},
   "source": [
    "# Economic Analysis with Pandas"
   ]
  },
  {
   "cell_type": "code",
   "execution_count": null,
   "metadata": {},
   "outputs": [],
   "source": [
    "# Imports\n",
    "import pandas as pd\n",
    "import numpy as np\n",
    "import matplotlib as plt\n",
    "import plotly.express as px\n",
    "from fredapi import Fred\n",
    "\n",
    "# Loading environment variables\n",
    "import os\n",
    "from dotenv import load_dotenv\n",
    "load_dotenv()\n",
    "api_key = os.environ.get('FRED_API_KEY')\n",
    "\n",
    "# Initial settings\n",
    "plt.style.use('fivethirtyeight')      # Default plotting style\n",
    "pd.set_option('max_columns', 500)     \n",
    "\n",
    "color_palette = plt.rcParams['axes.prop_cycle'].by_key['color']     # Pulls all colors from plot style"
   ]
  }
 ],
 "metadata": {
  "language_info": {
   "name": "python"
  },
  "orig_nbformat": 4
 },
 "nbformat": 4,
 "nbformat_minor": 2
}
